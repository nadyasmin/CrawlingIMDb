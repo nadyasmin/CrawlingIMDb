{
 "cells": [
  {
   "cell_type": "code",
   "execution_count": 47,
   "id": "210031c6",
   "metadata": {},
   "outputs": [],
   "source": [
    "from bs4 import BeautifulSoup\n",
    "import requests, openpyxl\n",
    "import pandas as pd"
   ]
  },
  {
   "cell_type": "code",
   "execution_count": 48,
   "id": "36d2a524",
   "metadata": {},
   "outputs": [
    {
     "name": "stdout",
     "output_type": "stream",
     "text": [
      "['Sheet']\n",
      "['Top Rated TV Shows on IMDb']\n"
     ]
    }
   ],
   "source": [
    "excel = openpyxl.Workbook()\n",
    "print(excel.sheetnames)\n",
    "sheet = excel.active\n",
    "sheet.title = 'Top Rated TV Shows on IMDb'\n",
    "print(excel.sheetnames)\n",
    "sheet.append(['Ranking', 'Title', 'Year of Release', 'IMDb Rating'])"
   ]
  },
  {
   "cell_type": "code",
   "execution_count": 5,
   "id": "1c067ae7",
   "metadata": {},
   "outputs": [],
   "source": [
    "source = requests.get('https://www.imdb.com/chart/tvmeter/?ref_=nv_tvv_mptv')"
   ]
  },
  {
   "cell_type": "code",
   "execution_count": 10,
   "id": "140acb4e",
   "metadata": {},
   "outputs": [],
   "source": [
    "soup = BeautifulSoup(source.content, 'html.parser')"
   ]
  },
  {
   "cell_type": "code",
   "execution_count": 15,
   "id": "0bc79551",
   "metadata": {},
   "outputs": [
    {
     "name": "stdout",
     "output_type": "stream",
     "text": [
      "100\n"
     ]
    }
   ],
   "source": [
    "tv_shows = soup.find(\"tbody\", class_=\"lister-list\").find_all(\"tr\")\n",
    "print(len(tv_shows))"
   ]
  },
  {
   "cell_type": "code",
   "execution_count": 49,
   "id": "d8ef0194",
   "metadata": {},
   "outputs": [],
   "source": [
    "for tv_show in tv_shows:\n",
    "    title = tv_show.find('td', class_='titleColumn').a.text\n",
    "    rank = tv_show.find('td', class_='titleColumn').find('div', class_='velocity').text.split('(')[0]\n",
    "    year = tv_show.find('td', class_='titleColumn').find('span', class_='secondaryInfo').text.strip('()')\n",
    "    rating = tv_show.find('td', class_='ratingColumn imdbRating').strong.text\n",
    "    sheet.append([rank, title, year, rating])"
   ]
  },
  {
   "cell_type": "code",
   "execution_count": 50,
   "id": "c6f8765a",
   "metadata": {},
   "outputs": [],
   "source": [
    "excel.save('Crawling Data_Top TV Shows on IMDb.xlsx')"
   ]
  }
 ],
 "metadata": {
  "kernelspec": {
   "display_name": "Python 3 (ipykernel)",
   "language": "python",
   "name": "python3"
  },
  "language_info": {
   "codemirror_mode": {
    "name": "ipython",
    "version": 3
   },
   "file_extension": ".py",
   "mimetype": "text/x-python",
   "name": "python",
   "nbconvert_exporter": "python",
   "pygments_lexer": "ipython3",
   "version": "3.10.9"
  }
 },
 "nbformat": 4,
 "nbformat_minor": 5
}
